{
 "cells": [
  {
   "attachments": {},
   "cell_type": "markdown",
   "metadata": {},
   "source": [
    "# Prepear"
   ]
  },
  {
   "cell_type": "code",
   "execution_count": 120,
   "metadata": {},
   "outputs": [
    {
     "name": "stdout",
     "output_type": "stream",
     "text": [
      "Device is cpu\n"
     ]
    }
   ],
   "source": [
    "# https://bamblebam.medium.com/audio-classification-and-regression-using-pytorch-48db77b3a5ec\n",
    "# The above code will import all the necessary libraries and initialize your device to either CPU or GPU. \n",
    "\n",
    "import torchaudio as ta\n",
    "from torch.utils.data import DataLoader\n",
    "import numpy as numpy\n",
    "\n",
    "import numpy as np\n",
    "import pandas as pd\n",
    "\n",
    "import tqdm as tqdm\n",
    "\n",
    "import torch\n",
    "from torch import nn\n",
    "import torchaudio\n",
    "\n",
    "import cnn\n",
    "\n",
    "if torch.cuda.is_available():\n",
    "    print('yes')\n",
    "    device='cuda'\n",
    "else:\n",
    "    device='cpu'\n",
    "\n",
    "import torch\n",
    "from cnn import CNNetwork\n",
    "import torchaudio\n",
    "import os\n",
    "\n",
    "\n",
    "import pandas as pd\n",
    "import numpy as np\n",
    "from sklearn.metrics import roc_auc_score, roc_curve, auc, confusion_matrix\n",
    "from glob import glob\n",
    "from sklearn.preprocessing import LabelEncoder\n",
    "import os\n",
    "import matplotlib.pyplot as plt\n",
    "import pylab\n",
    "import itertools\n",
    "\n",
    "import nussl\n",
    "from importlib import reload \n",
    "import nussl_fram\n",
    "reload (nussl_fram)\n",
    "\n",
    "from nussl_fram import dataset_v3\n",
    "from sklearn.model_selection import train_test_split\n",
    "\n",
    "import json # to print dictionary\n",
    "\n",
    "import shutil\n",
    "import logging"
   ]
  },
  {
   "cell_type": "code",
   "execution_count": 96,
   "metadata": {},
   "outputs": [],
   "source": [
    "# constance\n",
    "sr = 8000"
   ]
  },
  {
   "attachments": {},
   "cell_type": "markdown",
   "metadata": {},
   "source": [
    "## Model"
   ]
  },
  {
   "cell_type": "code",
   "execution_count": 83,
   "metadata": {},
   "outputs": [],
   "source": [
    "# define the building blocks\n",
    "num_features = 129  # number of frequency bins in STFT\n",
    "num_sources = 3  # how many sources to estimate\n",
    "mask_activation = 'sigmoid'  # activation function for masks\n",
    "num_audio_channels = 1  # number of audio channels\n",
    "\n",
    "modules = {\n",
    "    'mix_magnitude': {},\n",
    "    'my_log_spec': {\n",
    "        'class': 'AmplitudeToDB'\n",
    "    },\n",
    "    'my_norm': {\n",
    "        'class': 'BatchNorm',\n",
    "    },\n",
    "    'my_mask': {\n",
    "        'class': 'Embedding',\n",
    "        'args': {\n",
    "            'num_features': num_features,\n",
    "            'hidden_size': num_features,\n",
    "            'embedding_size': num_sources,\n",
    "            'activation': mask_activation,\n",
    "            'num_audio_channels': num_audio_channels,\n",
    "            'dim_to_embed': [2, 3]  # embed the frequency dimension (2) for all audio channels (3)\n",
    "        }\n",
    "    },\n",
    "    'my_estimates': {\n",
    "        'class': 'Mask',\n",
    "    },\n",
    "}\n",
    "# define the topology\n",
    "connections = [\n",
    "    ['my_log_spec',    ['mix_magnitude',          ]],\n",
    "    ['my_norm',        ['my_log_spec',            ]],\n",
    "    ['my_mask',        ['my_norm',                ]],\n",
    "    ['my_estimates',   ['my_mask', 'mix_magnitude']]\n",
    "]\n",
    "\n",
    "\n",
    "# define the outputs\n",
    "output = ['my_estimates', 'my_mask']\n"
   ]
  },
  {
   "cell_type": "code",
   "execution_count": 84,
   "metadata": {},
   "outputs": [
    {
     "name": "stdout",
     "output_type": "stream",
     "text": [
      "{\n",
      "  \"name\": \"simple_model\",\n",
      "  \"modules\": {\n",
      "    \"mix_magnitude\": {},\n",
      "    \"my_log_spec\": {\n",
      "      \"class\": \"AmplitudeToDB\"\n",
      "    },\n",
      "    \"my_norm\": {\n",
      "      \"class\": \"BatchNorm\"\n",
      "    },\n",
      "    \"my_mask\": {\n",
      "      \"class\": \"Embedding\",\n",
      "      \"args\": {\n",
      "        \"num_features\": 129,\n",
      "        \"hidden_size\": 129,\n",
      "        \"embedding_size\": 3,\n",
      "        \"activation\": \"sigmoid\",\n",
      "        \"num_audio_channels\": 1,\n",
      "        \"dim_to_embed\": [\n",
      "          2,\n",
      "          3\n",
      "        ]\n",
      "      }\n",
      "    },\n",
      "    \"my_estimates\": {\n",
      "      \"class\": \"Mask\"\n",
      "    }\n",
      "  },\n",
      "  \"connections\": [\n",
      "    [\n",
      "      \"my_log_spec\",\n",
      "      [\n",
      "        \"mix_magnitude\"\n",
      "      ]\n",
      "    ],\n",
      "    [\n",
      "      \"my_norm\",\n",
      "      [\n",
      "        \"my_log_spec\"\n",
      "      ]\n",
      "    ],\n",
      "    [\n",
      "      \"my_mask\",\n",
      "      [\n",
      "        \"my_norm\"\n",
      "      ]\n",
      "    ],\n",
      "    [\n",
      "      \"my_estimates\",\n",
      "      [\n",
      "        \"my_mask\",\n",
      "        \"mix_magnitude\"\n",
      "      ]\n",
      "    ]\n",
      "  ],\n",
      "  \"output\": [\n",
      "    \"my_estimates\",\n",
      "    \"my_mask\"\n",
      "  ]\n",
      "}\n"
     ]
    }
   ],
   "source": [
    "# configuratia\n",
    "config = {\n",
    "    'name': 'simple_model',\n",
    "    'modules': modules,\n",
    "    'connections': connections,\n",
    "    'output': output\n",
    "}\n",
    "\n",
    "print(json.dumps(config, indent=2))"
   ]
  },
  {
   "attachments": {},
   "cell_type": "markdown",
   "metadata": {},
   "source": [
    "## Prep Data"
   ]
  },
  {
   "cell_type": "code",
   "execution_count": 86,
   "metadata": {},
   "outputs": [
    {
     "name": "stdout",
     "output_type": "stream",
     "text": [
      "There are 40 samples in the data\n"
     ]
    }
   ],
   "source": [
    "nussl.utils.seed(0)  # make sure this does the same thing each time\n",
    "\n",
    "stft_params = nussl.STFTParams(window_length=256, hop_length=64)\n",
    "tfm = nussl.datasets.transforms.Compose([\n",
    "    nussl.datasets.transforms.PhaseSensitiveSpectrumApproximation(),\n",
    "    nussl.datasets.transforms.MagnitudeWeights(),\n",
    "    nussl.datasets.transforms.ToSeparationModel()\n",
    "])\n",
    "\n",
    "path = os.path.join(os.getcwd(), \"audio\")\n",
    "# TODO - update to 44100\n",
    "uds = dataset_v3(path, sample_rate=sr, stft_params=stft_params, transform=tfm)\n",
    "print(f\"There are {len(uds)} samples in the data\")"
   ]
  },
  {
   "cell_type": "code",
   "execution_count": 87,
   "metadata": {},
   "outputs": [
    {
     "name": "stdout",
     "output_type": "stream",
     "text": [
      "dict_keys(['index', 'mix_magnitude', 'ideal_binary_mask', 'source_magnitudes', 'weights'])\n",
      "torch.Size([626, 129, 1])\n"
     ]
    }
   ],
   "source": [
    "item = uds[0]\n",
    "print(item.keys())\n",
    "print(item['mix_magnitude'].shape)"
   ]
  },
  {
   "cell_type": "code",
   "execution_count": 88,
   "metadata": {},
   "outputs": [
    {
     "data": {
      "text/plain": [
       "torch.Size([1, 626, 129, 1])"
      ]
     },
     "execution_count": 88,
     "metadata": {},
     "output_type": "execute_result"
    }
   ],
   "source": [
    "for key in item:\n",
    "    if torch.is_tensor(item[key]):\n",
    "        item[key] = item[key].unsqueeze(0).float()\n",
    "\n",
    "item['mix_magnitude'].shape"
   ]
  },
  {
   "attachments": {},
   "cell_type": "markdown",
   "metadata": {},
   "source": [
    "# Demo - Use model"
   ]
  },
  {
   "cell_type": "code",
   "execution_count": null,
   "metadata": {},
   "outputs": [],
   "source": [
    "# model = nussl.ml.SeparationModel(config)\n",
    "# print(model)"
   ]
  },
  {
   "cell_type": "code",
   "execution_count": 123,
   "metadata": {},
   "outputs": [],
   "source": [
    "# output = model(item)\n",
    "# i = 0\n",
    "# plt.figure(figsize=(5, 5))\n",
    "# plt.imshow(\n",
    "#     output['my_estimates'][0, ..., 0, i].T.cpu().data.numpy(),\n",
    "#     origin='lower')\n",
    "# plt.title(\"Source\")\n",
    "# plt.show()\n",
    "\n",
    "# plt.figure(figsize=(5, 5))\n",
    "# plt.imshow(\n",
    "#     output['my_mask'][0, ..., 0, i].T.cpu().data.numpy(),\n",
    "#     origin='lower')\n",
    "# plt.title(\"Mask\")\n",
    "# plt.show()"
   ]
  },
  {
   "cell_type": "code",
   "execution_count": 90,
   "metadata": {},
   "outputs": [],
   "source": [
    "#Exmple train\n",
    "# loss_dictionary = {\n",
    "#     'L1Loss': {\n",
    "#         'weight': 1.0,\n",
    "#         'keys': {\n",
    "#             'my_estimates': 'input',\n",
    "#             'source_magnitudes': 'target',\n",
    "#         }\n",
    "#     }\n",
    "# }\n",
    "\n",
    "# optimizer = torch.optim.Adam(model.parameters(), lr=.001)"
   ]
  },
  {
   "cell_type": "code",
   "execution_count": null,
   "metadata": {},
   "outputs": [],
   "source": [
    "# Train on a single item (overfitting)\n",
    "# train_closure = nussl.ml.train.closures.TrainClosure(\n",
    "#     loss_dictionary, optimizer, model\n",
    "# )\n",
    "\n",
    "# loss_history = []\n",
    "# n_iter = 100\n",
    "\n",
    "# for i in range(n_iter):\n",
    "#     loss_output = train_closure(None, item)\n",
    "#     loss_history.append(loss_output['loss'])\n",
    "\n",
    "# plt.plot(loss_history)\n",
    "# plt.title('Train loss')\n",
    "# plt.xlabel('Iteration')\n",
    "# plt.ylabel('Loss')\n",
    "# plt.show()"
   ]
  },
  {
   "cell_type": "code",
   "execution_count": 118,
   "metadata": {},
   "outputs": [],
   "source": [
    "# Mask Visualizetion\n",
    "# output = model(item)\n",
    "\n",
    "# for i in range(output['my_estimates'].shape[-1]):\n",
    "#     plt.figure(figsize=(10, 5))\n",
    "#     plt.subplot(121)\n",
    "#     plt.imshow(\n",
    "#         output['my_estimates'][0, ..., 0, i].T.cpu().data.numpy(),\n",
    "#         origin='lower')\n",
    "#     plt.title(\"Source\")\n",
    "\n",
    "#     plt.subplot(122)\n",
    "#     plt.imshow(\n",
    "#         output['my_mask'][0, ..., 0, i].T.cpu().data.numpy(),\n",
    "#         origin='lower')\n",
    "#     plt.title(\"Mask\")\n",
    "#     plt.show()"
   ]
  },
  {
   "attachments": {},
   "cell_type": "markdown",
   "metadata": {},
   "source": [
    "# Train"
   ]
  },
  {
   "cell_type": "code",
   "execution_count": 146,
   "metadata": {},
   "outputs": [
    {
     "name": "stdout",
     "output_type": "stream",
     "text": [
      "SeparationModel(\n",
      "  (layers): ModuleDict(\n",
      "    (my_log_spec): AmplitudeToDB()\n",
      "    (my_norm): BatchNorm(\n",
      "      (batch_norm): BatchNorm1d(1, eps=1e-05, momentum=0.1, affine=True, track_running_stats=True)\n",
      "    )\n",
      "    (my_mask): Embedding(\n",
      "      (linear): Linear(in_features=129, out_features=387, bias=True)\n",
      "    )\n",
      "    (my_estimates): Mask()\n",
      "  )\n",
      ")\n",
      "Number of parameters: 50312\n"
     ]
    }
   ],
   "source": [
    "BATCH_SIZE = 5\n",
    "LEARNING_RATE = 1e-3\n",
    "\n",
    "OUTPUT_FOLDER = os.path.join(os.getcwd(), 'output')\n",
    "RESULTS_DIR = os.path.join(OUTPUT_FOLDER, 'results')\n",
    "\n",
    "NUM_WORKERS = 2\n",
    "DEVICE = 'cuda' if torch.cuda.is_available() else 'cpu'\n",
    "\n",
    "shutil.rmtree(os.path.join(RESULTS_DIR), ignore_errors=True)\n",
    "\n",
    "os.makedirs(RESULTS_DIR, exist_ok=True)\n",
    "os.makedirs(OUTPUT_FOLDER, exist_ok=True)\n",
    "\n",
    "# adjust logging so we see output of the handlers\n",
    "logger = logging.getLogger()\n",
    "logger.setLevel(logging.INFO)\n",
    "\n",
    "# Put together data\n",
    "dataloader = torch.utils.data.DataLoader(\n",
    "    uds, batch_size=BATCH_SIZE\n",
    ")\n",
    "\n",
    "# Build our model\n",
    "model = nussl.ml.SeparationModel(config).to(DEVICE)\n",
    "print(model)\n",
    "\n",
    "# # Closures\n",
    "# Build an optimizer\n",
    "optimizer = torch.optim.Adam(model.parameters(), lr=LEARNING_RATE)\n",
    "\n",
    "# Set up loss functions and closure\n",
    "# We'll use permutation invariant loss since we don't\n",
    "# care what order the sine waves get output in, just that\n",
    "# they are different.\n",
    "loss_dictionary = {\n",
    "    'L1Loss': {\n",
    "        'weight': 1.0,  # In case of multiLoss: sum wigth == 1\n",
    "        'keys': {\n",
    "            'my_estimates': 'input',\n",
    "            'source_magnitudes': 'target',\n",
    "        }\n",
    "    }\n",
    "}\n",
    "\n",
    "train_closure = nussl.ml.train.closures.TrainClosure(\n",
    "    loss_dictionary, optimizer, model\n",
    ")\n",
    "val_closure = nussl.ml.train.closures.ValidationClosure(\n",
    "    loss_dictionary, model\n",
    ")\n",
    "\n",
    "# Build the engine and add handlers\n",
    "train_engine, val_engine = nussl.ml.train.create_train_and_validation_engines(\n",
    "    train_closure, val_closure, device=DEVICE\n",
    ")\n",
    "nussl.ml.train.add_validate_and_checkpoint(\n",
    "    OUTPUT_FOLDER, model, optimizer, uds, train_engine,\n",
    "    val_data=dataloader, validator=val_engine\n",
    ")\n",
    "nussl.ml.train.add_stdout_handler(train_engine, val_engine)"
   ]
  },
  {
   "cell_type": "code",
   "execution_count": 147,
   "metadata": {},
   "outputs": [
    {
     "name": "stderr",
     "output_type": "stream",
     "text": [
      "INFO:ignite.engine.engine.Engine:Engine run starting with max_epochs=1.\n",
      "INFO:ignite.engine.engine.Engine:Engine run starting with max_epochs=1.\n",
      "INFO:ignite.engine.engine.Engine:Epoch[1] Complete. Time taken: 00:00:11.619\n",
      "INFO:ignite.engine.engine.Engine:Engine run complete. Time taken: 00:00:11.622\n",
      "INFO:root:\n",
      "\n",
      "EPOCH SUMMARY \n",
      "~~~~~~~~~~~~~~~~~~~~~~~~~~~~~~ \n",
      "- Epoch number: 0001 / 0001 \n",
      "- Training loss:   0.003009 \n",
      "- Validation loss: 0.003467 \n",
      "- Epoch took: 0:00:23.586780 \n",
      "- Time since start: 0:00:23.586844 \n",
      "~~~~~~~~~~~~~~~~~~~~~~~~~~~~~~ \n",
      "Saving to c:\\Users\\shushu\\Desktop\\Sorona_Wave\\output\\checkpoints\\best.model.pth. \n",
      "Output @ c:\\Users\\shushu\\Desktop\\Sorona_Wave\\output \n",
      "\n",
      "INFO:ignite.engine.engine.Engine:Epoch[1] Complete. Time taken: 00:00:23.588\n",
      "INFO:ignite.engine.engine.Engine:Engine run complete. Time taken: 00:00:23.588\n"
     ]
    },
    {
     "data": {
      "text/plain": [
       "State:\n",
       "\titeration: 8\n",
       "\tepoch: 1\n",
       "\tepoch_length: 8\n",
       "\tmax_epochs: 1\n",
       "\toutput: <class 'dict'>\n",
       "\tbatch: <class 'dict'>\n",
       "\tmetrics: <class 'dict'>\n",
       "\tdataloader: <class 'torch.utils.data.dataloader.DataLoader'>\n",
       "\tseed: <class 'NoneType'>\n",
       "\ttimes: <class 'dict'>\n",
       "\tepoch_history: <class 'dict'>\n",
       "\titer_history: <class 'dict'>\n",
       "\tpast_iter_history: <class 'dict'>\n",
       "\tmodel_output: <class 'dict'>\n",
       "\tsaved_model_path: c:\\Users\\shushu\\Desktop\\Sorona_Wave\\output\\checkpoints\\best.model.pth\n",
       "\toutput_folder: c:\\Users\\shushu\\Desktop\\Sorona_Wave\\output"
      ]
     },
     "execution_count": 147,
     "metadata": {},
     "output_type": "execute_result"
    }
   ],
   "source": [
    "train_engine.run(dataloader)"
   ]
  },
  {
   "cell_type": "code",
   "execution_count": 148,
   "metadata": {},
   "outputs": [
    {
     "data": {
      "image/png": "[encoded data removed]",
      "text/plain": [
       "<Figure size 640x480 with 1 Axes>"
      ]
     },
     "metadata": {},
     "output_type": "display_data"
    }
   ],
   "source": [
    "plt.plot(train_engine.state.iter_history['loss'])\n",
    "plt.xlabel('Iteration')\n",
    "plt.ylabel('Loss')\n",
    "plt.title('Train Loss')\n",
    "plt.show()"
   ]
  },
  {
   "cell_type": "code",
   "execution_count": 150,
   "metadata": {},
   "outputs": [
    {
     "name": "stdout",
     "output_type": "stream",
     "text": [
      "dict_keys(['state_dict', 'config', 'metadata'])\n"
     ]
    }
   ],
   "source": [
    "saved_model = torch.load(train_engine.state.saved_model_path)\n",
    "print(saved_model.keys())"
   ]
  },
  {
   "cell_type": "code",
   "execution_count": 155,
   "metadata": {},
   "outputs": [
    {
     "name": "stdout",
     "output_type": "stream",
     "text": [
      "dict_keys(['config', 'nussl_version', 'optimizer', 'loss_dictionary', 'stft_params', 'sample_rate', 'num_channels', 'train_dataset', 'trainer.state_dict', 'trainer.state.epoch_history'])\n",
      "odict_keys(['layers.my_norm.batch_norm.weight', 'layers.my_norm.batch_norm.bias', 'layers.my_norm.batch_norm.running_mean', 'layers.my_norm.batch_norm.running_var', 'layers.my_norm.batch_norm.num_batches_tracked', 'layers.my_mask.linear.weight', 'layers.my_mask.linear.bias'])\n",
      "config: {'name': 'simple_model', 'modules': {'mix_magnitude': {}, 'my_log_spec': {'class': 'AmplitudeToDB', 'module_snapshot': 'class AmplitudeToDB(nn.Module):\\n    \"\"\"\\n    Takes a magnitude spectrogram and converts it to a log\\n    amplitude spectrogram in decibels.\\n    \\n    Args:\\n        data (torch.Tensor): Magnitude spectrogram to convert to\\n        log spectrogram.\\n        ref (float): reference value. Defaults to 1.0.\\n        amin (float): lowest possible value for numerical stability.\\n        Defaults to 1e-8.\\n    \\n    Returns:\\n        torch.Tensor: log-magnitude energy in each bin in representation.\\n    \"\"\"\\n\\n    def forward(self, data, ref=1.0, amin=1e-4):\\n        data = data ** 2\\n        amin = amin ** 2\\n        ref = np.log10(np.maximum(amin, ref ** 2))\\n        data = 10.0 * (torch.log10(torch.clamp(data, min=amin)) - ref)\\n        return data\\n', 'args': {}}, 'my_norm': {'class': 'BatchNorm', 'module_snapshot': 'class BatchNorm(nn.Module):\\n    \"\"\"\\n    Applies a batch norm layer. Defaults to using only 1 feature, commonly\\n    used at the very beginning of the network to normalize the input spectrogram.\\n\\n    Data comes and goes as (nb, nt, nf, nc, ...). Inside this module, the data undergoes\\n    the following procedure:\\n\\n    1. It is first reshaped to (nb, nf, nt, nc, ...)\\n    2. Data is reshaped to (nb, nf, -1).\\n    3. ``BatchNorm1d`` is applied with ``num_features`` to data.\\n    4. Data is reshaped back to (nb, nt, nf, nc) and returned.\\n    \\n    Args:\\n        num_features (int): num_features argument to BatchNorm1d, defaults to 1.\\n        feature_dim (int): which dimension the features that are being normalized are on.\\n          Defaults to 2.\\n        **kwargs (dict): additional keyword arguments that can be passed to BatchNorm2d.\\n    \\n    Returns:\\n        torch.Tensor: modified input data tensor with batch norm.\\n    \"\"\"\\n\\n    def __init__(self, num_features=1, feature_dim=2, **kwargs):\\n        super(BatchNorm, self).__init__()\\n        self.num_features = num_features\\n        self.feature_dim = feature_dim\\n        self.add_module(\\'batch_norm\\', nn.BatchNorm1d(self.num_features, **kwargs))\\n\\n    def forward(self, data):\\n        data = data.transpose(self.feature_dim, 1)\\n        shape = data.shape\\n        new_shape = (shape[0], self.num_features, -1)\\n\\n        data = data.reshape(new_shape)\\n        data = self.batch_norm(data)\\n        data = data.reshape(shape)\\n        data = data.transpose(self.feature_dim, 1)\\n        return data\\n', 'args': {}}, 'my_mask': {'class': 'Embedding', 'args': {'num_features': 129, 'hidden_size': 129, 'embedding_size': 3, 'activation': 'sigmoid', 'num_audio_channels': 1, 'dim_to_embed': [2, 3]}, 'module_snapshot': 'class Embedding(nn.Module):\\n    \"\"\"\\n    Maps output from an audio representation module (e.g. RecurrentStack, \\n    DilatedConvolutionalStack) to an embedding space. The output shape is \\n    (batch_size, sequence_length, num_features, embedding_size). The embeddings can\\n    be passed through an activation function. If activation is \\'softmax\\' or \\n    \\'sigmoid\\', and embedding_size is equal to the number of sources, this module \\n    can be used to implement a mask inference network (or a mask inference\\n    head in a Chimera network setup).\\n\\n    Args:\\n        num_features (int): Number of features being mapped for each frame. \\n          Either num_frequencies, or if used with MelProjection, num_mels if using \\n          RecurrentStack. Should be 1 if using DilatedConvolutionalStack. \\n\\n        hidden_size (int): Size of output from RecurrentStack (hidden_size) or \\n          DilatedConvolutionalStack (num_filters). If RecurrentStack is bidirectional, \\n          this should be set to 2 * hidden_size.\\n        \\n        embedding_size (int): Dimensionality of embedding.\\n        \\n        activation (list of str): Activation functions to be applied. Options \\n          are \\'sigmoid\\', \\'tanh\\', \\'softmax\\', \\'relu\\', \\'gate\\'. Unit normalization can be applied by \\n          adding \\'unit_norm\\' to the list (e.g. [\\'sigmoid\\', unit_norm\\']). Alternatively,\\n          L1 normalization can be applied by adding \\'l1_norm\\' to the list.\\n\\n        dim_to_embed (int): Which dimension of the input to apply the embedding to.\\n          Defaults to -1 (the last dimension).\\n\\n        bias (bool): Whether or not to place a bias on the linear layer. Defaults to\\n          True.\\n\\n        reshape (bool): Whether to reshape the output of the linear layer to look\\n          like a time-frequency representation (nb, nt, nf, nc, ...). Defaults to\\n          True.\\n    \"\"\"\\n    def __init__(self, num_features, hidden_size, embedding_size, activation,\\n                 num_audio_channels=1, dim_to_embed=-1, bias=True, reshape=True):\\n        super(Embedding, self).__init__()\\n        self.add_module(\\n            \\'linear\\',\\n            nn.Linear(\\n                hidden_size, \\n                num_features * num_audio_channels * embedding_size,\\n                bias=bias\\n            )\\n        )\\n        self.num_features = num_features\\n        self.num_audio_channels = num_audio_channels\\n        self.activation = activation\\n        self.embedding_size = embedding_size\\n        self.reshape = reshape\\n\\n        if \\'gated_tanh\\' in self.activation:\\n            self.embed_linear = nn.Sequential(\\n                nn.Linear(hidden_size, hidden_size), \\n                nn.Tanh()\\n            )\\n            self.embed_gate = nn.Sequential(\\n                nn.Linear(hidden_size, hidden_size),\\n                nn.Sigmoid()\\n            )\\n\\n        if isinstance(dim_to_embed, int):\\n            dim_to_embed = [dim_to_embed]\\n\\n        self.dim_to_embed = dim_to_embed\\n\\n        for name, param in self.linear.named_parameters():\\n            if \\'bias\\' in name:\\n                nn.init.constant_(param, 0.0)\\n            elif \\'weight\\' in name:\\n                nn.init.xavier_normal_(param)\\n\\n    def forward(self, data):\\n        \"\"\"\\n        Args:\\n            data: output from RecurrentStack or ConvolutionalStack. Shape is:\\n              (num_batch, ..., hidden_size or num_filters)\\n\\n        Returns:\\n            An embedding (with an optional activation) for each point in the \\n              representation of shape (num_batch, ..., embedding_size).\\n        \"\"\"\\n        shape = list(data.shape)\\n        _dims = []\\n        for _dim in self.dim_to_embed:\\n            # move each dimension to embed to end of tensor\\n            if _dim == -1:\\n                _dim = len(shape) - 1\\n            data = data.transpose(_dim, -1)\\n            _dims.append(_dim)\\n\\n        # the new shape doesn\\'t have the embedded dimensions\\n        shape = [\\n            v for i, v in enumerate(shape) \\n            if i not in _dims\\n        ]\\n        \\n        shape = tuple(shape)\\n        data = data.reshape(shape + (-1,))\\n\\n        if \\'gated_tanh\\' in self.activation:\\n            data = self.embed_linear(data) * self.embed_gate(data)\\n\\n        data = self.linear(data)\\n\\n        if self.reshape:\\n            shape = shape + (\\n                self.num_features, self.num_audio_channels, self.embedding_size,)\\n            data = data.reshape(shape)\\n\\n        if \\'sigmoid\\' in self.activation:\\n            data = torch.sigmoid(data)\\n        elif \\'tanh\\' in self.activation:\\n            data = torch.tanh(data)\\n        elif \\'relu\\' in self.activation:\\n            data = torch.relu(data)\\n        elif \\'softmax\\' in self.activation:\\n            data = torch.softmax(data, dim=-1)\\n\\n        if \\'unit_norm\\' in self.activation:\\n            data = nn.functional.normalize(data, dim=-1, p=2)\\n        elif \\'l1_norm\\' in self.activation:\\n            data = nn.functional.normalize(data, dim=-1, p=1)\\n\\n        return data\\n'}, 'my_estimates': {'class': 'Mask', 'module_snapshot': 'class Mask(nn.Module):\\n    \"\"\"\\n    Takes a mask and applies it to a representation. Mask and representation must match\\n    in their first 3 dimensions (nb, nt, nf). The last\\n    dimension of the representation is unsqueezed to match the mask shape. So if there\\n    are ``ns`` sources to separate, the mask shape will be (nb, nt, nf, ns), the \\n    representation shape will be (nb, nt, nf).\\n\\n    Representation gets unsqueezed to (nb, nt, nf, 1). Multiplying with the mask\\n    broadcasts, resulting in (nb, nt, nf, ns) output corresponding to each separated\\n    source from the representation.\\n\\n    Detaches the representation before multiplying the mask element-wise.\\n    \"\"\"\\n\\n    def __init__(self):\\n        super(Mask, self).__init__()\\n\\n    def forward(self, mask, representation):\\n        # add a source dimension\\n        representation = representation.unsqueeze(-1).expand_as(mask)\\n        return mask * representation.detach()\\n', 'args': {}}}, 'connections': [['my_log_spec', ['mix_magnitude']], ['my_norm', ['my_log_spec']], ['my_mask', ['my_norm']], ['my_estimates', ['my_mask', 'mix_magnitude']]], 'output': ['my_estimates', 'my_mask']}\n",
      "nussl_version: 1.1.9\n",
      "optimizer: {'name': 'Adam', 'params': {'lr': 0.001, 'betas': (0.9, 0.999), 'eps': 1e-08, 'weight_decay': 0, 'amsgrad': False, 'maximize': False, 'foreach': None, 'capturable': False, 'differentiable': False, 'fused': False}}\n",
      "loss_dictionary: {'L1Loss': {'weight': 1.0, 'keys': {'my_estimates': 'input', 'source_magnitudes': 'target'}}}\n",
      "stft_params: STFTParams(window_length=256, hop_length=64, window_type=None)\n",
      "sample_rate: 8000\n",
      "num_channels: None\n",
      "train_dataset: {'name': 'dataset_v3', 'stft_params': STFTParams(window_length=256, hop_length=64, window_type=None), 'sample_rate': 8000, 'num_channels': None, 'folder': 'c:\\\\Users\\\\shushu\\\\Desktop\\\\Sorona_Wave\\\\audio', 'transforms': Compose(\n",
      "    PhaseSensitiveSpectrumApproximation(mix_key = mix, source_key = sources, range_min = 0.0, range_max = 1.0)\n",
      "    MagnitudeWeights(mix_key = mix, mix_magnitude_key = mix_magnitude)\n",
      "    ToSeparationModel(swap_tf_dims = ['mix_magnitude', 'source_magnitudes', 'ideal_binary_mask', 'weights'])\n",
      ")}\n",
      "trainer.state_dict: {'epoch': 1, 'epoch_length': 8, 'max_epochs': 1, 'output': {'L1Loss': 0.002537270775064826, 'loss': 0.002537270775064826}, 'metrics': {}, 'seed': None}\n",
      "trainer.state.epoch_history: {'validation/L1Loss': [0.0034665172861423343], 'validation/loss': [0.0034665172861423343], 'train/L1Loss': [0.0030094479443505406], 'train/loss': [0.0030094479443505406]}\n",
      "layers.my_norm.batch_norm.weight: tensor([1.0024])\n",
      "layers.my_norm.batch_norm.bias: tensor([0.0076])\n",
      "layers.my_norm.batch_norm.running_mean: tensor([-30.6052])\n",
      "layers.my_norm.batch_norm.running_var: tensor([114.8595])\n",
      "layers.my_norm.batch_norm.num_batches_tracked: 8\n",
      "layers.my_mask.linear.weight: tensor([[ 0.0810,  0.0094, -0.0469,  ..., -0.0785, -0.0404,  0.0018],\n",
      "        [ 0.0106, -0.0210, -0.1060,  ..., -0.0810,  0.0159,  0.1237],\n",
      "        [ 0.1046,  0.0230, -0.0707,  ..., -0.0042,  0.0070, -0.0095],\n",
      "        ...,\n",
      "        [ 0.0707, -0.0394,  0.0548,  ...,  0.0647,  0.0100,  0.0385],\n",
      "        [ 0.0831,  0.0092,  0.0328,  ...,  0.0940, -0.0771,  0.0035],\n",
      "        [ 0.0314,  0.0643,  0.0492,  ..., -0.1012, -0.0212, -0.0057]])\n",
      "layers.my_mask.linear.bias: tensor([-0.0028, -0.0053, -0.0045,  0.0024, -0.0061, -0.0055, -0.0015, -0.0062,\n",
      "        -0.0011, -0.0062, -0.0062, -0.0012, -0.0068, -0.0064,  0.0063, -0.0067,\n",
      "        -0.0063,  0.0065, -0.0069, -0.0066,  0.0067, -0.0071, -0.0069,  0.0068,\n",
      "        -0.0073, -0.0069,  0.0070, -0.0068, -0.0066,  0.0064, -0.0068, -0.0067,\n",
      "         0.0065, -0.0068, -0.0065,  0.0064, -0.0068, -0.0066,  0.0062, -0.0070,\n",
      "        -0.0063,  0.0061, -0.0071, -0.0062,  0.0060, -0.0071, -0.0065,  0.0062,\n",
      "        -0.0074, -0.0063,  0.0058, -0.0074, -0.0064,  0.0062, -0.0075, -0.0064,\n",
      "         0.0058, -0.0072, -0.0060,  0.0050, -0.0071, -0.0053,  0.0046, -0.0069,\n",
      "        -0.0054,  0.0054, -0.0067, -0.0052,  0.0051, -0.0066, -0.0053,  0.0047,\n",
      "        -0.0068, -0.0058,  0.0044, -0.0067, -0.0053,  0.0036, -0.0073, -0.0053,\n",
      "         0.0035, -0.0073, -0.0046,  0.0019, -0.0075, -0.0045,  0.0010, -0.0073,\n",
      "        -0.0041, -0.0008, -0.0075, -0.0036, -0.0027, -0.0074, -0.0041, -0.0030,\n",
      "        -0.0077, -0.0030, -0.0033, -0.0069, -0.0042, -0.0040, -0.0063, -0.0028,\n",
      "        -0.0046, -0.0061, -0.0029, -0.0031, -0.0052, -0.0028, -0.0044, -0.0059,\n",
      "        -0.0036, -0.0041, -0.0061, -0.0049, -0.0070, -0.0068, -0.0050, -0.0052,\n",
      "        -0.0070, -0.0048, -0.0044, -0.0070, -0.0049, -0.0044, -0.0072, -0.0054,\n",
      "        -0.0029, -0.0073, -0.0065, -0.0059, -0.0071, -0.0066, -0.0059, -0.0072,\n",
      "        -0.0063, -0.0024, -0.0072, -0.0066, -0.0046, -0.0060, -0.0067, -0.0025,\n",
      "        -0.0061, -0.0067, -0.0031, -0.0062, -0.0066, -0.0019, -0.0060, -0.0068,\n",
      "        -0.0032, -0.0054, -0.0064, -0.0033, -0.0030, -0.0067, -0.0029, -0.0052,\n",
      "        -0.0068, -0.0010, -0.0043, -0.0069, -0.0037,  0.0015, -0.0069, -0.0060,\n",
      "         0.0028, -0.0071, -0.0058,  0.0046, -0.0074, -0.0056,  0.0043, -0.0074,\n",
      "        -0.0062,  0.0039, -0.0075, -0.0060,  0.0049, -0.0075, -0.0058,  0.0055,\n",
      "        -0.0076, -0.0059,  0.0051, -0.0076, -0.0069,  0.0065, -0.0076, -0.0071,\n",
      "         0.0064, -0.0076, -0.0070,  0.0069, -0.0075, -0.0074,  0.0070, -0.0076,\n",
      "        -0.0072,  0.0067, -0.0074, -0.0073,  0.0068, -0.0075, -0.0074,  0.0067,\n",
      "        -0.0073, -0.0073,  0.0064, -0.0072, -0.0072,  0.0059, -0.0070, -0.0071,\n",
      "         0.0063, -0.0070, -0.0071,  0.0059, -0.0068, -0.0067,  0.0059, -0.0068,\n",
      "        -0.0066,  0.0057, -0.0067, -0.0064,  0.0049, -0.0066, -0.0061,  0.0051,\n",
      "        -0.0066, -0.0059,  0.0048, -0.0066, -0.0059,  0.0037, -0.0065, -0.0058,\n",
      "         0.0023, -0.0064, -0.0056,  0.0020, -0.0064, -0.0057,  0.0023, -0.0066,\n",
      "        -0.0055,  0.0014, -0.0067, -0.0053, -0.0003, -0.0067, -0.0053, -0.0017,\n",
      "        -0.0067, -0.0048, -0.0016, -0.0066, -0.0047, -0.0024, -0.0070, -0.0034,\n",
      "        -0.0038, -0.0072,  0.0001, -0.0044, -0.0075,  0.0003, -0.0038, -0.0075,\n",
      "         0.0004, -0.0056, -0.0076,  0.0002, -0.0065, -0.0076,  0.0036, -0.0055,\n",
      "        -0.0075,  0.0033, -0.0061, -0.0077,  0.0036, -0.0060, -0.0075,  0.0043,\n",
      "        -0.0061, -0.0074,  0.0048, -0.0060, -0.0072,  0.0039, -0.0061, -0.0071,\n",
      "         0.0044, -0.0063, -0.0069,  0.0050, -0.0063, -0.0068,  0.0049, -0.0059,\n",
      "        -0.0066,  0.0045, -0.0060, -0.0064,  0.0046, -0.0061, -0.0061,  0.0049,\n",
      "        -0.0061, -0.0061,  0.0049, -0.0061, -0.0061,  0.0046, -0.0062, -0.0059,\n",
      "         0.0042, -0.0061, -0.0059,  0.0048, -0.0058, -0.0057,  0.0048, -0.0058,\n",
      "        -0.0057,  0.0049, -0.0061, -0.0057,  0.0051, -0.0058, -0.0058,  0.0050,\n",
      "        -0.0061, -0.0052,  0.0048, -0.0056, -0.0060,  0.0052, -0.0058, -0.0058,\n",
      "         0.0049, -0.0060, -0.0060,  0.0050, -0.0059, -0.0061,  0.0049, -0.0054,\n",
      "        -0.0058,  0.0047, -0.0058, -0.0058,  0.0032, -0.0059, -0.0060,  0.0034,\n",
      "        -0.0060, -0.0059,  0.0026, -0.0059, -0.0061,  0.0034, -0.0055, -0.0061,\n",
      "         0.0042, -0.0055, -0.0054,  0.0035, -0.0039, -0.0046,  0.0028, -0.0037,\n",
      "        -0.0034,  0.0017, -0.0032, -0.0033,  0.0011, -0.0028, -0.0031,  0.0009,\n",
      "        -0.0028, -0.0030,  0.0007])\n"
     ]
    }
   ],
   "source": [
    "print(saved_model['metadata'].keys())\n",
    "print(saved_model['state_dict'].keys())\n",
    "\n",
    "for key in saved_model['metadata']:\n",
    "    print(f\"{key}: {saved_model['metadata'][key]}\")\n",
    "\n",
    "for key in saved_model['state_dict']:\n",
    "    print(f\"{key}: {saved_model['state_dict'][key]}\")"
   ]
  },
  {
   "cell_type": "code",
   "execution_count": null,
   "metadata": {},
   "outputs": [],
   "source": []
  }
 ],
 "metadata": {
  "kernelspec": {
   "display_name": "Python 3",
   "language": "python",
   "name": "python3"
  },
  "language_info": {
   "codemirror_mode": {
    "name": "ipython",
    "version": 3
   },
   "file_extension": ".py",
   "mimetype": "text/x-python",
   "name": "python",
   "nbconvert_exporter": "python",
   "pygments_lexer": "ipython3",
   "version": "3.10.8"
  },
  "orig_nbformat": 4
 },
 "nbformat": 4,
 "nbformat_minor": 2
}
